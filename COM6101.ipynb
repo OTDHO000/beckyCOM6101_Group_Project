{
 "cells": [
  {
   "cell_type": "markdown",
   "metadata": {},
   "source": [
    "# Notebook for preparing necessary data for COM6101 group project"
   ]
  },
  {
   "cell_type": "markdown",
   "metadata": {},
   "source": [
    "## Introduction"
   ]
  },
  {
   "cell_type": "markdown",
   "metadata": {},
   "source": [
    "We want to start an italian restaurant in Hong Kong. We want to find the best location for our restaurant. as well as the menu we should offer. (to be added more details)"
   ]
  },
  {
   "cell_type": "markdown",
   "metadata": {},
   "source": [
    "## Data Preparation"
   ]
  },
  {
   "cell_type": "markdown",
   "metadata": {},
   "source": [
    "Here are the data we need to prepare for our project:\n",
    "* 2021 Hong Kong Census data (source: https://data.gov.hk/en-data/dataset/hk-censtatd-census_geo-2021-population-census-by-ssg )\n",
    "* Hong Kong Restaurant License (source: https://data.gov.hk/en-data/dataset/hk-fehd-fehdlmis-restaurant-licences )\n",
    "* Hong Kong Pedestrian Network (source: https://opendata.esrichina.hk/datasets/48e295256fd84032a87b27000cea35cd/about)\n",
    "* Hong Kong pedestrian network (souce: https://portal.csdi.gov.hk/geoportal/#metadataInfoPanel )\n",
    "* <span style=\"background-color: #FF0000\">Hong Kong Geocommunity (source: https://data.gov.hk/en-data/dataset/hk-landsd-openmap-development-hkms-digital-geocom/resource/0931b84b-f1c8-409f-9cd4-176a26645db0 ) (May not useful, as the data cannot match the time)</span>"
   ]
  }
 ],
 "metadata": {
  "language_info": {
   "name": "python"
  }
 },
 "nbformat": 4,
 "nbformat_minor": 2
}
