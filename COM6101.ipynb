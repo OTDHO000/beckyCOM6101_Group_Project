{
 "cells": [
  {
   "cell_type": "markdown",
   "metadata": {},
   "source": [
    "# Notebook for preparing necessary data for COM6101 group project"
   ]
  },
  {
   "cell_type": "markdown",
   "metadata": {},
   "source": [
    "## Introduction"
   ]
  },
  {
   "cell_type": "markdown",
   "metadata": {},
   "source": [
    "We want to start an italian restaurant in Hong Kong. We want to find the best location for our restaurant. as well as the menu we should offer. (to be added more details)"
   ]
  },
  {
   "cell_type": "markdown",
   "metadata": {},
   "source": [
    "## Data Preparation"
   ]
  },
  {
   "cell_type": "markdown",
   "metadata": {},
   "source": [
    "Here are the data we need to prepare for our project:\n",
    "* 2021 Hong Kong Census data (source: https://data.gov.hk/en-data/dataset/hk-censtatd-census_geo-2021-population-census-by-ssg )\n",
    "* Hong Kong Restaurant License (source: https://data.gov.hk/en-data/dataset/hk-fehd-fehdlmis-restaurant-licences )\n",
    "* Hong Kong Pedestrian Network (source: https://opendata.esrichina.hk/datasets/48e295256fd84032a87b27000cea35cd/about)\n",
    "* Hong Kong pedestrian network (souce: https://portal.csdi.gov.hk/geoportal/#metadataInfoPanel )\n",
    "* <span style=\"background-color: #FF0000\">Hong Kong Geocommunity (source: https://data.gov.hk/en-data/dataset/hk-landsd-openmap-development-hkms-digital-geocom/resource/0931b84b-f1c8-409f-9cd4-176a26645db0 ) (May not useful, as the data cannot match the time)</span>"
   ]
  },
  {
   "cell_type": "markdown",
   "metadata": {},
   "source": [
    "## Data Processing"
   ]
  },
  {
   "cell_type": "markdown",
   "metadata": {},
   "source": [
    "In this notebook, we will process the data to get the following information:"
   ]
  },
  {
   "cell_type": "markdown",
   "metadata": {},
   "source": [
    "### Restaurant License Data"
   ]
  },
  {
   "cell_type": "code",
   "execution_count": 4,
   "metadata": {},
   "outputs": [
    {
     "name": "stdout",
     "output_type": "stream",
     "text": [
      "Converted 20230101-1031-LP_Restaurants_TC.XML to 0230101-1031-LP_Restaurants_TC.csv\n",
      "Converted 20240101-1108-LP_Restaurants_TC.XML to 0240101-1108-LP_Restaurants_TC.csv\n",
      "XML to CSV conversion completed.\n"
     ]
    }
   ],
   "source": [
    "# transfer xml to csv for restaurant licence data\n",
    "import os\n",
    "import xml.etree.ElementTree as Xet\n",
    "import pandas as pd\n",
    "\n",
    "folder_path = 'data/restaurant_license/xml'\n",
    "output_folder = 'data/restaurant_license/csv'\n",
    "\n",
    "# Create the output folder if it doesn't exist\n",
    "os.makedirs(output_folder, exist_ok=True)\n",
    "\n",
    "cols = [\"TYPE\", \"DIST\", \"LICNO\", \"SS\", \"ADR\", \"INFO\", \"EXPDATE\"]\n",
    "\n",
    "# Iterate through all XML files in the folder_path\n",
    "for filename in os.listdir(folder_path):\n",
    "    if filename.endswith(\".XML\"):\n",
    "        xml_file = os.path.join(folder_path, filename)\n",
    "        csv_file = os.path.join(output_folder, os.path.splitext(filename)[0][1:] + \".csv\")\n",
    "        rows = []\n",
    "        xmlparse = Xet.parse(xml_file)\n",
    "        # The data are stored in the <LPS> tag\n",
    "        root = xmlparse.getroot().find(\"LPS\")\n",
    "\n",
    "        for i in root:\n",
    "            \n",
    "            TYPE = i.find(\"TYPE\").text\n",
    "            DIST = i.find(\"DIST\").text\n",
    "            LICNO = i.find(\"LICNO\").text\n",
    "            SS = i.find(\"SS\").text\n",
    "            ADR = i.find(\"ADR\").text\n",
    "            INFO = i.find(\"INFO\").text\n",
    "            EXPDATE = i.find(\"EXPDATE\").text\n",
    "            rows.append({\"TYPE\": TYPE, \"DIST\": DIST, \"LICNO\": LICNO, \n",
    "                         \"SS\": SS, \"ADR\": ADR, \"INFO\": INFO, \"EXPDATE\": EXPDATE})\n",
    "\n",
    "        df = pd.DataFrame(rows, columns=cols)\n",
    "        df.to_csv(csv_file, index=False)\n",
    "        print(f\"Converted {filename} to {os.path.splitext(filename)[0][1:] + '.csv'}\")\n",
    "\n",
    "print(\"XML to CSV conversion completed.\")"
   ]
  },
  {
   "cell_type": "code",
   "execution_count": null,
   "metadata": {},
   "outputs": [],
   "source": [
    "# geocoding for restaurant licence data\n",
    "import os\n",
    "import pandas as pd\n",
    "import geocoder\n",
    "\n",
    "API_KEY = \"AAPK3ac33a03387e472db4ac246ec302438c69Oee1EeJzIYy8Qlsbogx5ZziXUuE247Xeb2ASN4douVyGLHZ9MwCGHEtPdJPJz8\"\n",
    "\n",
    "folder_path = 'restaurant-info-hk/csv'\n",
    "output_folder = 'restaurant-info-hk/geo'\n",
    "\n",
    "# create output folder if not exist\n",
    "if not os.path.exists(output_folder):\n",
    "    os.mkdir(output_folder)\n",
    "\n",
    "# Iterate through all CSV files in the folder_path\n",
    "# columns: TYPE, DIST, LICNO, SS, ADR, INFO, EXPDATE\n",
    "# column ADR is the address\n",
    "\n",
    "# use old csv file to reference if address already exist\n",
    "old_file = 'restaurant-info-hk/geo/old_file.csv'\n",
    "\n",
    "for filename in os.listdir(folder_path):\n",
    "    # only retrive csv file and file not end with .finished.csv\n",
    "    if filename.endswith(\".csv\") and not filename.endswith(\".finished.csv\"):\n",
    "        print(f'start converting {filename} to geo location')\n",
    "        csv_file = os.path.join(folder_path, filename)\n",
    "        geo_file = os.path.join(output_folder, filename + \".geo.csv\")\n",
    "        # find rows if ADR contains ['KWAI CHUNG\"] or ['TSUEN WAN']\n",
    "        # transform ADR to upper case first\n",
    "        df = pd.read_csv(csv_file, encoding='utf-8')\n",
    "        df['ADR'] = df['ADR'].str.upper()\n",
    "        df = df.loc[lambda df: df['ADR'].str.contains('KWAI CHUNG') | df['ADR'].str.contains('TSUEN WAN')]\n",
    "        # add new columns for geo location\n",
    "        lat = []\n",
    "        lng = []\n",
    "        df.reset_index(inplace=True, drop=True)\n",
    "        # check if df['ADR'] == old_df['ADR']\n",
    "        old_df = pd.read_csv(old_file, encoding='utf-8')\n",
    "        for i in range(len(df)):\n",
    "            if df['ADR'][i] in old_df['ADR'].values:\n",
    "                # if address already exist in old_df, then use the geo location in old_df\n",
    "                lat.append(old_df.loc[old_df['ADR'] == df['ADR'][i], 'lat'].iloc[0])\n",
    "                lng.append(old_df.loc[old_df['ADR'] == df['ADR'][i], 'lng'].iloc[0])\n",
    "                print(f\"Converted {df['ADR'][i]} to {old_df.loc[old_df['ADR'] == df['ADR'][i], 'lat'].iloc[0]}, {old_df.loc[old_df['ADR'] == df['ADR'][i], 'lng'].iloc[0]}, by referencing old csv file\")\n",
    "                continue\n",
    "            g = geocoder.arcgis(df['ADR'][i], key = API_KEY)\n",
    "            lat.append(g.lat)\n",
    "            lng.append(g.lng)\n",
    "            print(f\"Converted {df['ADR'][i]} to {g.lat}, {g.lng}\")\n",
    "        df['lat'] = lat\n",
    "        df['lng'] = lng\n",
    "        df.to_csv(geo_file, index=False)\n",
    "        # rename the original csv file to finished\n",
    "        os.rename(csv_file, os.path.join(folder_path, filename + \".finished.csv\"))\n",
    "        print(f\"Converted {filename} to {filename}\")\n",
    "print(\"All csv files converted to geo location\")"
   ]
  }
 ],
 "metadata": {
  "kernelspec": {
   "display_name": "Python 3",
   "language": "python",
   "name": "python3"
  },
  "language_info": {
   "codemirror_mode": {
    "name": "ipython",
    "version": 3
   },
   "file_extension": ".py",
   "mimetype": "text/x-python",
   "name": "python",
   "nbconvert_exporter": "python",
   "pygments_lexer": "ipython3",
   "version": "3.10.13"
  }
 },
 "nbformat": 4,
 "nbformat_minor": 2
}
